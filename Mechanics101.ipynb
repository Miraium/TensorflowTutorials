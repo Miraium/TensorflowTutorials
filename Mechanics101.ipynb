{
 "cells": [
  {
   "cell_type": "code",
   "execution_count": 1,
   "metadata": {},
   "outputs": [
    {
     "name": "stdout",
     "output_type": "stream",
     "text": [
      "/tmp/tensorflow/mnist/logs/fully_connected_feed\n",
      "Extracting /tmp\\tensorflow/mnist/input_data\\train-images-idx3-ubyte.gz\n",
      "Extracting /tmp\\tensorflow/mnist/input_data\\train-labels-idx1-ubyte.gz\n",
      "Extracting /tmp\\tensorflow/mnist/input_data\\t10k-images-idx3-ubyte.gz\n",
      "Extracting /tmp\\tensorflow/mnist/input_data\\t10k-labels-idx1-ubyte.gz\n",
      "Step 0: loss = 2.31 (0.401 sec)\n",
      "Step 100: loss = 2.19 (0.001 sec)\n",
      "Step 200: loss = 2.00 (0.000 sec)\n",
      "Step 300: loss = 1.74 (0.000 sec)\n",
      "Step 400: loss = 1.37 (0.000 sec)\n",
      "Step 500: loss = 1.00 (0.000 sec)\n",
      "Step 600: loss = 0.77 (0.000 sec)\n",
      "Step 700: loss = 0.79 (0.001 sec)\n",
      "Step 800: loss = 0.64 (0.000 sec)\n",
      "Step 900: loss = 0.66 (0.000 sec)\n",
      "Training Data Eval:\n",
      "  Num examples: 55000  Num correct: 46262  Precision @ 1: 0.8411\n",
      "Validation Data Eval:\n",
      "  Num examples: 5000  Num correct: 4242  Precision @ 1: 0.8484\n",
      "Test Data Eval:\n",
      "  Num examples: 10000  Num correct: 8536  Precision @ 1: 0.8536\n",
      "Step 1000: loss = 0.52 (0.007 sec)\n",
      "Step 1100: loss = 0.57 (0.061 sec)\n",
      "Step 1200: loss = 0.48 (0.000 sec)\n",
      "Step 1300: loss = 0.65 (0.001 sec)\n",
      "Step 1400: loss = 0.46 (0.000 sec)\n",
      "Step 1500: loss = 0.41 (0.001 sec)\n",
      "Step 1600: loss = 0.37 (0.003 sec)\n",
      "Step 1700: loss = 0.53 (0.001 sec)\n",
      "Step 1800: loss = 0.44 (0.002 sec)\n",
      "Step 1900: loss = 0.47 (0.000 sec)\n",
      "Training Data Eval:\n",
      "  Num examples: 55000  Num correct: 49220  Precision @ 1: 0.8949\n",
      "Validation Data Eval:\n",
      "  Num examples: 5000  Num correct: 4503  Precision @ 1: 0.9006\n",
      "Test Data Eval:\n",
      "  Num examples: 10000  Num correct: 9005  Precision @ 1: 0.9005\n"
     ]
    }
   ],
   "source": [
    "# ウィンドウズではログ出力フォルダパスをソースコード通りに指定する必要がある。\n",
    "# デフォルトのパス生成方法はos.path.join()を用いていて、\n",
    "# /tmp\\tensorflow/mnist/logs/fully_connected_feedとなり、フォルダ生成に失敗する\n",
    "# チュートリアル内容に関するメモは同フォルダのfully_connected_feed.pyにコメント。\n",
    "%run fully_connected_feed.py --log_dir /tmp/tensorflow/mnist/logs/fully_connected_feed"
   ]
  },
  {
   "cell_type": "code",
   "execution_count": null,
   "metadata": {
    "collapsed": true
   },
   "outputs": [],
   "source": []
  },
  {
   "cell_type": "code",
   "execution_count": null,
   "metadata": {
    "collapsed": true
   },
   "outputs": [],
   "source": []
  }
 ],
 "metadata": {
  "kernelspec": {
   "display_name": "Python 3",
   "language": "python",
   "name": "python3"
  },
  "language_info": {
   "codemirror_mode": {
    "name": "ipython",
    "version": 3
   },
   "file_extension": ".py",
   "mimetype": "text/x-python",
   "name": "python",
   "nbconvert_exporter": "python",
   "pygments_lexer": "ipython3",
   "version": "3.5.3"
  }
 },
 "nbformat": 4,
 "nbformat_minor": 2
}
