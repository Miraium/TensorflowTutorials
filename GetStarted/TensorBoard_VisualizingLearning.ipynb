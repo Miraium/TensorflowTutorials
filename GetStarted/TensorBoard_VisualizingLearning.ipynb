{
 "cells": [
  {
   "cell_type": "markdown",
   "metadata": {},
   "source": [
    "# TensorBoard: Visualizing Learning\n",
    "TensorFlowのプログラムの理解，デバッグ，最適化を容易にするための可視化ツールTensorFlowBoardについて学ぶ．  \n",
    "計算グラフ，計算グラフの実行に対する定量評価結果などを可視化できる．  \n",
    "このチュートリアルでは簡単な使い方を説明するだけので，詳細はTensorBoard READMEを参照のこと．  \n",
    "[TensorBoard - github](https://github.com/tensorflow/tensorboard)"
   ]
  },
  {
   "cell_type": "markdown",
   "metadata": {},
   "source": [
    "## Serializing the data (データをオブジェクトにまとめる)\n",
    "TensorBoardはTensorFlowのイベントファイル(実行時に生成されるデータのまとまり)を読み込んで操作する．  \n",
    "まずは，グラフを作り，どのノードのデータをまとめたいのか`summary operation`を使ってanotateする．  \n",
    "例えば，学習係数がどう変化していったか，目的関数がどう変化していったかを見たければ，学習係数のノードや目的関数のノードに対して，`tf.summary.scalar`オペレーションを取り付ければよい．それぞれに`learning rate`や`loss function`のようにタグ付けしておく．タグ付けは`with tf.name_scope(learning_rate):`のようにスコープを作って行う．    \n",
    "`tf.summary.histogram`のような別のオペレーションも用意されており，特定レイヤの発火状況や微分や重みの分布を見るのに使えたりする．  \n",
    "詳細は[summary operations](https://www.tensorflow.org/api_guides/python/summary)を見ること．\n",
    "\n",
    "TensorFlowのオペレーションはrunするまで何もしない．summaryノードもただ作っただけではだめ．summaryノードもrunする必要がある．  \n",
    "手動でsummaryノードを管理するのはうんざり(tedious)なので，`tf.summary.merge_all`を使って一つのオペレーションにマージしてしまって，全てのsummaryデータを出力できるようにする．\n",
    "\n",
    "マージした後は，そのsummaryオペレーションをrunすればよくて，そのオペレーションはrunされたステップ(?)時点でのまとまったデータ(a serialized Summary protobuf object)を生成する．  \n",
    "最終的には，このsummaryデータを`tf.summary.FireWriter`に通すことでディスクに保存する．\n",
    "(a serialized Summary protobuf object: 恐らくシリアライズフォーマットのProtocol Buffersの略としてprotobufと呼んでいる．)\n",
    "\n",
    "FireWriterはコンストラクタ引数にログディレクトリGraphを受け取れる．\n",
    "Graphを受け取った場合にはテンソルの形状情報に沿ってグラフを可視化できる．\n",
    "[別のチュートリアル(TensorBoard: GraphVisualization)](https://www.tensorflow.org/get_started/graph_viz#tensor_shape_information)も見ると良い．\n",
    "\n",
    "以下のコードは[MNIST For ML Beginners](https://www.tensorflow.org/get_started/mnist/beginners)の改変コード(抜粋)．\n",
    "summaryオペレーションを幾つか加えており，10ステップごとにrunしている．(10ステップごとに記録している．)\n",
    "\n",
    "\n",
    "全ソースコードは[mnist_with_summaries.py](https://github.com/tensorflow/tensorflow/blob/r1.3/tensorflow/examples/tutorials/mnist/mnist_with_summaries.py)．\n",
    "この改変後のソースコードを実行すると，TensorBoardで可視化結果が見られる．"
   ]
  },
  {
   "cell_type": "markdown",
   "metadata": {},
   "source": [
    "```python\n",
    "def variable_summaries(var):\n",
    "  \"\"\"Attach a lot of summaries to a Tensor (for TensorBoard visualization).\"\"\"\n",
    "  with tf.name_scope('summaries'):\n",
    "    mean = tf.reduce_mean(var)\n",
    "    tf.summary.scalar('mean', mean)\n",
    "    with tf.name_scope('stddev'):\n",
    "      stddev = tf.sqrt(tf.reduce_mean(tf.square(var - mean)))\n",
    "    tf.summary.scalar('stddev', stddev)\n",
    "    tf.summary.scalar('max', tf.reduce_max(var))\n",
    "    tf.summary.scalar('min', tf.reduce_min(var))\n",
    "    tf.summary.histogram('histogram', var)\n",
    "\n",
    "def nn_layer(input_tensor, input_dim, output_dim, layer_name, act=tf.nn.relu):\n",
    "  \"\"\"Reusable code for making a simple neural net layer.\n",
    "\n",
    "  It does a matrix multiply, bias add, and then uses relu to nonlinearize.\n",
    "  It also sets up name scoping so that the resultant graph is easy to read,\n",
    "  and adds a number of summary ops.\n",
    "  \"\"\"\n",
    "  # Adding a name scope ensures logical grouping of the layers in the graph.\n",
    "  with tf.name_scope(layer_name):\n",
    "    # This Variable will hold the state of the weights for the layer\n",
    "    with tf.name_scope('weights'):\n",
    "      weights = weight_variable([input_dim, output_dim])\n",
    "      variable_summaries(weights)\n",
    "    with tf.name_scope('biases'):\n",
    "      biases = bias_variable([output_dim])\n",
    "      variable_summaries(biases)\n",
    "    with tf.name_scope('Wx_plus_b'):\n",
    "      preactivate = tf.matmul(input_tensor, weights) + biases\n",
    "      tf.summary.histogram('pre_activations', preactivate)\n",
    "    activations = act(preactivate, name='activation')\n",
    "    tf.summary.histogram('activations', activations)\n",
    "    return activations\n",
    "\n",
    "hidden1 = nn_layer(x, 784, 500, 'layer1')\n",
    "\n",
    "with tf.name_scope('dropout'):\n",
    "  keep_prob = tf.placeholder(tf.float32)\n",
    "  tf.summary.scalar('dropout_keep_probability', keep_prob)\n",
    "  dropped = tf.nn.dropout(hidden1, keep_prob)\n",
    "\n",
    "# Do not apply softmax activation yet, see below.\n",
    "y = nn_layer(dropped, 500, 10, 'layer2', act=tf.identity)\n",
    "\n",
    "with tf.name_scope('cross_entropy'):\n",
    "  # The raw formulation of cross-entropy,\n",
    "  #\n",
    "  # tf.reduce_mean(-tf.reduce_sum(y_ * tf.log(tf.softmax(y)),\n",
    "  #                               reduction_indices=[1]))\n",
    "  #\n",
    "  # can be numerically unstable.\n",
    "  #\n",
    "  # So here we use tf.nn.softmax_cross_entropy_with_logits on the\n",
    "  # raw outputs of the nn_layer above, and then average across\n",
    "  # the batch.\n",
    "  diff = tf.nn.softmax_cross_entropy_with_logits(targets=y_, logits=y)\n",
    "  with tf.name_scope('total'):\n",
    "    cross_entropy = tf.reduce_mean(diff)\n",
    "tf.summary.scalar('cross_entropy', cross_entropy)\n",
    "\n",
    "with tf.name_scope('train'):\n",
    "  train_step = tf.train.AdamOptimizer(FLAGS.learning_rate).minimize(\n",
    "      cross_entropy)\n",
    "\n",
    "with tf.name_scope('accuracy'):\n",
    "  with tf.name_scope('correct_prediction'):\n",
    "    correct_prediction = tf.equal(tf.argmax(y, 1), tf.argmax(y_, 1))\n",
    "  with tf.name_scope('accuracy'):\n",
    "    accuracy = tf.reduce_mean(tf.cast(correct_prediction, tf.float32))\n",
    "tf.summary.scalar('accuracy', accuracy)\n",
    "\n",
    "# Merge all the summaries and write them out to /tmp/mnist_logs (by default)\n",
    "merged = tf.summary.merge_all()\n",
    "train_writer = tf.summary.FileWriter(FLAGS.summaries_dir + '/train',\n",
    "                                      sess.graph)\n",
    "test_writer = tf.summary.FileWriter(FLAGS.summaries_dir + '/test')\n",
    "tf.global_variables_initializer().run()\n",
    "```"
   ]
  },
  {
   "cell_type": "code",
   "execution_count": 1,
   "metadata": {
    "collapsed": true
   },
   "outputs": [],
   "source": [
    "# jupyterでダウンロードしてきた全ソースコードを実行\n",
    "# Windows環境だと，引数を明示的に与えないと\n",
    "# /tmp\\tensorflow/mnist/logs/fully_connected_feedとなり、フォルダ生成に失敗する?(ュートリアルMechanics10と同じ．)\n",
    "# jupyterで実行すると途中で落ちるので，別のコンソールで処理した\n",
    "# run -i mnist_with_summaries.py --log_dir /tmp/tensorflow/mnist/logs/fully_connected_feed"
   ]
  },
  {
   "cell_type": "markdown",
   "metadata": {},
   "source": [
    "## Launching TensorBoard (TensorBoardの起動)\n",
    "TensorBoardを起動するには以下のコマンドを実行すれば良い．パスはとりあえず絶対パスで指定(?)\n",
    "実行後は何も動かないように見えるが，`localhost:6006`にブラウザでアクセスすると結果が見られる．\n",
    "```sh\n",
    "tensorboard --logdir=c:/tmp/tensorflow/mnist/logs/fully_connected_feed\n",
    "```"
   ]
  },
  {
   "cell_type": "code",
   "execution_count": null,
   "metadata": {
    "collapsed": true
   },
   "outputs": [],
   "source": []
  }
 ],
 "metadata": {
  "kernelspec": {
   "display_name": "Python 3",
   "language": "python",
   "name": "python3"
  },
  "language_info": {
   "codemirror_mode": {
    "name": "ipython",
    "version": 3
   },
   "file_extension": ".py",
   "mimetype": "text/x-python",
   "name": "python",
   "nbconvert_exporter": "python",
   "pygments_lexer": "ipython3",
   "version": "3.5.3"
  }
 },
 "nbformat": 4,
 "nbformat_minor": 2
}
