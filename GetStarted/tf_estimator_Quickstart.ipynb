{
 "cells": [
  {
   "cell_type": "code",
   "execution_count": 1,
   "metadata": {},
   "outputs": [],
   "source": [
    "# Import all the necessary modules, and define where to download and store the dataset\n",
    "from __future__ import absolute_import\n",
    "from __future__ import division\n",
    "from __future__ import print_function\n",
    "\n",
    "import os\n",
    "# urllib.urlopen()は削除されているので、別のurllib.request.urlopen()を使う\n",
    "# http://docs.python.jp/2/library/urllib.html\n",
    "# import urllib\n",
    "import urllib.request\n",
    "\n",
    "import tensorflow as tf\n",
    "import numpy as np\n",
    "\n",
    "IRIS_TRAINING = \"iris_training.csv\"\n",
    "IRIS_TRAINING_URL = \"http://download.tensorflow.org/data/iris_training.csv\"\n",
    "\n",
    "IRIS_TEST = \"iris_test.csv\"\n",
    "IRIS_TEST_URL = \"http://download.tensorflow.org/data/iris_test.csv\""
   ]
  },
  {
   "cell_type": "code",
   "execution_count": 2,
   "metadata": {},
   "outputs": [],
   "source": [
    "# Download if the training and test sets are not already stored locally\n",
    "# 文字コードのせいか、正しくファイル読み書きができないので手動ダウンロードで配置\n",
    "if not os.path.exists(IRIS_TRAINING):\n",
    "  # raw = urllib.urlopen(IRIS_TRAINING_URL).read()\n",
    "  raw = urllib.request.urlopen(IRIS_TRAINING_URL).read()\n",
    "  with open(IRIS_TRAINING,'w') as f:\n",
    "    f.write(raw)\n",
    "\n",
    "if not os.path.exists(IRIS_TEST):\n",
    "  # raw = urllib.urlopen(IRIS_TEST_URL).read()\n",
    "  raw = urllib.request.urlopen(IRIS_TEST_URL).read()\n",
    "  with open(IRIS_TEST,'w') as f:\n",
    "    f.write(raw)"
   ]
  },
  {
   "cell_type": "code",
   "execution_count": 3,
   "metadata": {
    "collapsed": true
   },
   "outputs": [],
   "source": [
    "# Load datasets.\n",
    "# tf.contrib.learn.datasetsには名前付きtupleで、\n",
    "# データとターゲットを保持している。\n",
    "# training_set.data, training_set.targetのようにアクセスが可能\n",
    "training_set = tf.contrib.learn.datasets.base.load_csv_with_header(\n",
    "    filename=IRIS_TRAINING,\n",
    "    target_dtype=np.int,\n",
    "    features_dtype=np.float32)\n",
    "test_set = tf.contrib.learn.datasets.base.load_csv_with_header(\n",
    "    filename=IRIS_TEST,\n",
    "    target_dtype=np.int,\n",
    "    features_dtype=np.float32)"
   ]
  },
  {
   "cell_type": "code",
   "execution_count": 4,
   "metadata": {},
   "outputs": [
    {
     "name": "stdout",
     "output_type": "stream",
     "text": [
      "INFO:tensorflow:Using default config.\n",
      "INFO:tensorflow:Using config: {'_session_config': None, '_model_dir': '/tmp/iris_model', '_keep_checkpoint_max': 5, '_save_checkpoints_secs': 600, '_log_step_count_steps': 100, '_save_summary_steps': 100, '_keep_checkpoint_every_n_hours': 10000, '_tf_random_seed': 1, '_save_checkpoints_steps': None}\n"
     ]
    }
   ],
   "source": [
    "# Specify that all features have real-value data\n",
    "# 入力するデータは4次元なので、全ての次元を使うようにshape=[4]\n",
    "feature_columns = [tf.feature_column.numeric_column(\"x\", shape=[4])]\n",
    "\n",
    "# Build 3 layer DNN with 10, 20, 10 units respectively.\n",
    "# 0-2の3クラスに分類するのでn_classes=3\n",
    "classifier = tf.estimator.DNNClassifier(feature_columns=feature_columns,\n",
    "                                        hidden_units=[10, 20, 10],\n",
    "                                        n_classes=3,\n",
    "                                        model_dir=\"/tmp/iris_model\")"
   ]
  },
  {
   "cell_type": "code",
   "execution_count": 5,
   "metadata": {
    "collapsed": true
   },
   "outputs": [],
   "source": [
    "# Define the training inputs\n",
    "train_input_fn = tf.estimator.inputs.numpy_input_fn(\n",
    "    x={\"x\": np.array(training_set.data)},\n",
    "    y=np.array(training_set.target),\n",
    "    num_epochs=None,\n",
    "    shuffle=True)"
   ]
  },
  {
   "cell_type": "code",
   "execution_count": 6,
   "metadata": {},
   "outputs": [
    {
     "name": "stdout",
     "output_type": "stream",
     "text": [
      "INFO:tensorflow:Create CheckpointSaverHook.\n",
      "INFO:tensorflow:Restoring parameters from /tmp/iris_model\\model.ckpt-8000\n",
      "INFO:tensorflow:Saving checkpoints for 8001 into /tmp/iris_model\\model.ckpt.\n",
      "INFO:tensorflow:loss = 2.94745, step = 8001\n",
      "INFO:tensorflow:global_step/sec: 576.492\n",
      "INFO:tensorflow:loss = 7.95504, step = 8101 (0.171 sec)\n",
      "INFO:tensorflow:global_step/sec: 623.856\n",
      "INFO:tensorflow:loss = 5.37395, step = 8201 (0.161 sec)\n",
      "INFO:tensorflow:global_step/sec: 617.53\n",
      "INFO:tensorflow:loss = 5.41774, step = 8301 (0.161 sec)\n",
      "INFO:tensorflow:global_step/sec: 619.649\n",
      "INFO:tensorflow:loss = 2.54411, step = 8401 (0.162 sec)\n",
      "INFO:tensorflow:global_step/sec: 625.289\n",
      "INFO:tensorflow:loss = 4.61811, step = 8501 (0.159 sec)\n",
      "INFO:tensorflow:global_step/sec: 588.377\n",
      "INFO:tensorflow:loss = 4.12768, step = 8601 (0.170 sec)\n",
      "INFO:tensorflow:global_step/sec: 655.854\n",
      "INFO:tensorflow:loss = 7.08055, step = 8701 (0.153 sec)\n",
      "INFO:tensorflow:global_step/sec: 683.111\n",
      "INFO:tensorflow:loss = 3.93271, step = 8801 (0.146 sec)\n",
      "INFO:tensorflow:global_step/sec: 625.224\n",
      "INFO:tensorflow:loss = 5.00167, step = 8901 (0.160 sec)\n",
      "INFO:tensorflow:global_step/sec: 741.263\n",
      "INFO:tensorflow:loss = 4.22337, step = 9001 (0.134 sec)\n",
      "INFO:tensorflow:global_step/sec: 597.371\n",
      "INFO:tensorflow:loss = 6.34385, step = 9101 (0.167 sec)\n",
      "INFO:tensorflow:global_step/sec: 453.293\n",
      "INFO:tensorflow:loss = 2.79812, step = 9201 (0.222 sec)\n",
      "INFO:tensorflow:global_step/sec: 597.208\n",
      "INFO:tensorflow:loss = 3.0176, step = 9301 (0.167 sec)\n",
      "INFO:tensorflow:global_step/sec: 609.132\n",
      "INFO:tensorflow:loss = 5.14585, step = 9401 (0.164 sec)\n",
      "INFO:tensorflow:global_step/sec: 528.997\n",
      "INFO:tensorflow:loss = 4.82235, step = 9501 (0.189 sec)\n",
      "INFO:tensorflow:global_step/sec: 561.881\n",
      "INFO:tensorflow:loss = 3.92169, step = 9601 (0.178 sec)\n",
      "INFO:tensorflow:global_step/sec: 676.163\n",
      "INFO:tensorflow:loss = 5.10058, step = 9701 (0.148 sec)\n",
      "INFO:tensorflow:global_step/sec: 639.32\n",
      "INFO:tensorflow:loss = 2.70893, step = 9801 (0.156 sec)\n",
      "INFO:tensorflow:global_step/sec: 685.427\n",
      "INFO:tensorflow:loss = 1.27492, step = 9901 (0.145 sec)\n",
      "INFO:tensorflow:global_step/sec: 702.291\n",
      "INFO:tensorflow:loss = 4.24555, step = 10001 (0.142 sec)\n",
      "INFO:tensorflow:global_step/sec: 653.993\n",
      "INFO:tensorflow:loss = 3.04331, step = 10101 (0.153 sec)\n",
      "INFO:tensorflow:global_step/sec: 621.393\n",
      "INFO:tensorflow:loss = 1.24261, step = 10201 (0.161 sec)\n",
      "INFO:tensorflow:global_step/sec: 581.415\n",
      "INFO:tensorflow:loss = 2.96295, step = 10301 (0.171 sec)\n",
      "INFO:tensorflow:global_step/sec: 699.888\n",
      "INFO:tensorflow:loss = 6.60036, step = 10401 (0.143 sec)\n",
      "INFO:tensorflow:global_step/sec: 622.984\n",
      "INFO:tensorflow:loss = 7.88716, step = 10501 (0.161 sec)\n",
      "INFO:tensorflow:global_step/sec: 540.769\n",
      "INFO:tensorflow:loss = 5.49355, step = 10601 (0.187 sec)\n",
      "INFO:tensorflow:global_step/sec: 588.271\n",
      "INFO:tensorflow:loss = 4.6049, step = 10701 (0.168 sec)\n",
      "INFO:tensorflow:global_step/sec: 581.003\n",
      "INFO:tensorflow:loss = 2.0839, step = 10801 (0.172 sec)\n",
      "INFO:tensorflow:global_step/sec: 669.354\n",
      "INFO:tensorflow:loss = 7.34211, step = 10901 (0.149 sec)\n",
      "INFO:tensorflow:global_step/sec: 622.615\n",
      "INFO:tensorflow:loss = 1.70607, step = 11001 (0.160 sec)\n",
      "INFO:tensorflow:global_step/sec: 649.451\n",
      "INFO:tensorflow:loss = 4.0438, step = 11101 (0.155 sec)\n",
      "INFO:tensorflow:global_step/sec: 687.822\n",
      "INFO:tensorflow:loss = 1.85437, step = 11201 (0.145 sec)\n",
      "INFO:tensorflow:global_step/sec: 704.68\n",
      "INFO:tensorflow:loss = 6.06706, step = 11301 (0.142 sec)\n",
      "INFO:tensorflow:global_step/sec: 736.048\n",
      "INFO:tensorflow:loss = 6.68976, step = 11401 (0.136 sec)\n",
      "INFO:tensorflow:global_step/sec: 712.318\n",
      "INFO:tensorflow:loss = 5.39465, step = 11501 (0.140 sec)\n",
      "INFO:tensorflow:global_step/sec: 733.339\n",
      "INFO:tensorflow:loss = 3.33958, step = 11601 (0.136 sec)\n",
      "INFO:tensorflow:global_step/sec: 695\n",
      "INFO:tensorflow:loss = 2.92552, step = 11701 (0.144 sec)\n",
      "INFO:tensorflow:global_step/sec: 744.253\n",
      "INFO:tensorflow:loss = 2.80311, step = 11801 (0.135 sec)\n",
      "INFO:tensorflow:global_step/sec: 586.668\n",
      "INFO:tensorflow:loss = 1.88054, step = 11901 (0.170 sec)\n",
      "INFO:tensorflow:Saving checkpoints for 12000 into /tmp/iris_model\\model.ckpt.\n",
      "INFO:tensorflow:Loss for final step: 3.97753.\n"
     ]
    },
    {
     "data": {
      "text/plain": [
       "<tensorflow.python.estimator.canned.dnn.DNNClassifier at 0x1ede9bda390>"
      ]
     },
     "execution_count": 6,
     "metadata": {},
     "output_type": "execute_result"
    }
   ],
   "source": [
    "# Train model.\n",
    "classifier.train(input_fn=train_input_fn, steps=4000)"
   ]
  },
  {
   "cell_type": "code",
   "execution_count": 7,
   "metadata": {},
   "outputs": [
    {
     "name": "stdout",
     "output_type": "stream",
     "text": [
      "INFO:tensorflow:Starting evaluation at 2017-09-04-15:02:19\n",
      "INFO:tensorflow:Restoring parameters from /tmp/iris_model\\model.ckpt-12000\n",
      "INFO:tensorflow:Finished evaluation at 2017-09-04-15:02:19\n",
      "INFO:tensorflow:Saving dict for global step 12000: accuracy = 0.966667, average_loss = 0.12649, global_step = 12000, loss = 3.79469\n",
      "\n",
      "Test Accuracy: 0.966667\n",
      "\n"
     ]
    }
   ],
   "source": [
    "# Define the test inputs\n",
    "# テスト用のデータを定義して\n",
    "test_input_fn = tf.estimator.inputs.numpy_input_fn(\n",
    "    x={\"x\": np.array(test_set.data)},\n",
    "    y=np.array(test_set.target),\n",
    "    num_epochs=1,\n",
    "    shuffle=False)\n",
    "\n",
    "# Evaluate accuracy.\n",
    "# evaluate()を使用することで、学習済みのclassifierの評価を行うことができる\n",
    "# evaluate()はdictを返すので、必要な値をkeyを入力して取り出している。\n",
    "accuracy_score = classifier.evaluate(input_fn=test_input_fn)[\"accuracy\"]\n",
    "\n",
    "print(\"\\nTest Accuracy: {0:f}\\n\".format(accuracy_score))"
   ]
  },
  {
   "cell_type": "code",
   "execution_count": 14,
   "metadata": {},
   "outputs": [
    {
     "name": "stdout",
     "output_type": "stream",
     "text": [
      "INFO:tensorflow:Restoring parameters from /tmp/iris_model\\model.ckpt-8000\n",
      "[{'probabilities': array([  4.54885640e-06,   9.99990225e-01,   5.21195898e-06], dtype=float32), 'classes': array([b'1'], dtype=object), 'logits': array([-5.67307234,  6.62755251, -5.53699255], dtype=float32), 'class_ids': array([1], dtype=int64)}, {'probabilities': array([  4.44002990e-06,   7.10272849e-01,   2.89722741e-01], dtype=float32), 'classes': array([b'1'], dtype=object), 'logits': array([-9.86227322,  2.12046981,  1.22374511], dtype=float32), 'class_ids': array([1], dtype=int64)}]\n",
      "New Samples, Class Predictions:    [array([b'1'], dtype=object), array([b'1'], dtype=object)]\n",
      "\n"
     ]
    }
   ],
   "source": [
    "# Classify two new flower samples.\n",
    "# 既存のデータだけでなく、(仮に得られたとして)別のデータの分類もできる。\n",
    "# predict()はdictのgeneratorを返すのでlist化して、\n",
    "# 最終結果を配列に出力している。\n",
    "new_samples = np.array(\n",
    "    [[6.4, 3.2, 4.5, 1.5],\n",
    "     [5.8, 3.1, 5.0, 1.7]], dtype=np.float32)\n",
    "predict_input_fn = tf.estimator.inputs.numpy_input_fn(\n",
    "    x={\"x\": new_samples},\n",
    "    num_epochs=1,\n",
    "    shuffle=False)\n",
    "\n",
    "predictions = list(classifier.predict(input_fn=predict_input_fn))\n",
    "print(predictions)\n",
    "predicted_classes = [p[\"classes\"] for p in predictions]\n",
    "\n",
    "print(\n",
    "    \"New Samples, Class Predictions:    {}\\n\"\n",
    "    .format(predicted_classes))"
   ]
  },
  {
   "cell_type": "code",
   "execution_count": null,
   "metadata": {
    "collapsed": true
   },
   "outputs": [],
   "source": []
  }
 ],
 "metadata": {
  "kernelspec": {
   "display_name": "Python 3",
   "language": "python",
   "name": "python3"
  },
  "language_info": {
   "codemirror_mode": {
    "name": "ipython",
    "version": 3
   },
   "file_extension": ".py",
   "mimetype": "text/x-python",
   "name": "python",
   "nbconvert_exporter": "python",
   "pygments_lexer": "ipython3",
   "version": "3.5.3"
  }
 },
 "nbformat": 4,
 "nbformat_minor": 2
}
