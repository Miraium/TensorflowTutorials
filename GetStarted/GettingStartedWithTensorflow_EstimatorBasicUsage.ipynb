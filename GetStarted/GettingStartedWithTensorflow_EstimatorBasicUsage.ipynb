{
 "cells": [
  {
   "cell_type": "code",
   "execution_count": 1,
   "metadata": {
    "collapsed": true
   },
   "outputs": [],
   "source": [
    "import tensorflow as tf\n",
    "import numpy as np"
   ]
  },
  {
   "cell_type": "code",
   "execution_count": 2,
   "metadata": {
    "collapsed": true
   },
   "outputs": [],
   "source": [
    "# Declare list of features.\n",
    "# We only have one numeric feature. There are many other types of columns that are more complicated and useful.\n",
    "feature_columns = [tf.feature_column.numeric_column(\"x\", shape=[1])]\n"
   ]
  },
  {
   "cell_type": "code",
   "execution_count": 3,
   "metadata": {},
   "outputs": [
    {
     "name": "stdout",
     "output_type": "stream",
     "text": [
      "INFO:tensorflow:Using default config.\n",
      "WARNING:tensorflow:Using temporary folder as model directory: C:\\Users\\ognek\\AppData\\Local\\Temp\\tmp0gd8n30p\n",
      "INFO:tensorflow:Using config: {'_session_config': None, '_keep_checkpoint_every_n_hours': 10000, '_keep_checkpoint_max': 5, '_save_summary_steps': 100, '_save_checkpoints_steps': None, '_model_dir': 'C:\\\\Users\\\\ognek\\\\AppData\\\\Local\\\\Temp\\\\tmp0gd8n30p', '_log_step_count_steps': 100, '_tf_random_seed': 1, '_save_checkpoints_secs': 600}\n"
     ]
    }
   ],
   "source": [
    "# An estimator is the front end to invoke training (fitting) and evaluation(inference).\n",
    "# There are many predefined types like linear regression, linear classification, \n",
    "# and many neural network classifiers and regressors.\n",
    "# The following code provides an estimator that does linear regression.\n",
    "estimator = tf.estimator.LinearRegressor(feature_columns=feature_columns)"
   ]
  },
  {
   "cell_type": "code",
   "execution_count": 4,
   "metadata": {},
   "outputs": [
    {
     "name": "stdout",
     "output_type": "stream",
     "text": [
      "INFO:tensorflow:Create CheckpointSaverHook.\n",
      "INFO:tensorflow:Saving checkpoints for 1 into C:\\Users\\ognek\\AppData\\Local\\Temp\\tmp0gd8n30p\\model.ckpt.\n",
      "INFO:tensorflow:loss = 14.0, step = 1\n",
      "INFO:tensorflow:global_step/sec: 878.771\n",
      "INFO:tensorflow:loss = 0.0830444, step = 101 (0.115 sec)\n",
      "INFO:tensorflow:global_step/sec: 991.528\n",
      "INFO:tensorflow:loss = 0.0217448, step = 201 (0.101 sec)\n",
      "INFO:tensorflow:global_step/sec: 1033.36\n",
      "INFO:tensorflow:loss = 0.0109655, step = 301 (0.097 sec)\n",
      "INFO:tensorflow:global_step/sec: 1024.05\n",
      "INFO:tensorflow:loss = 0.00450686, step = 401 (0.098 sec)\n",
      "INFO:tensorflow:global_step/sec: 1056.69\n",
      "INFO:tensorflow:loss = 0.000380806, step = 501 (0.095 sec)\n",
      "INFO:tensorflow:global_step/sec: 1068.73\n",
      "INFO:tensorflow:loss = 7.38749e-05, step = 601 (0.094 sec)\n",
      "INFO:tensorflow:global_step/sec: 1087.64\n",
      "INFO:tensorflow:loss = 6.07987e-06, step = 701 (0.092 sec)\n",
      "INFO:tensorflow:global_step/sec: 1031.54\n",
      "INFO:tensorflow:loss = 2.019e-06, step = 801 (0.097 sec)\n",
      "INFO:tensorflow:global_step/sec: 1089.28\n",
      "INFO:tensorflow:loss = 4.86955e-07, step = 901 (0.092 sec)\n",
      "INFO:tensorflow:Saving checkpoints for 1000 into C:\\Users\\ognek\\AppData\\Local\\Temp\\tmp0gd8n30p\\model.ckpt.\n",
      "INFO:tensorflow:Loss for final step: 4.81337e-08.\n",
      "INFO:tensorflow:Starting evaluation at 2017-08-20-05:54:41\n",
      "INFO:tensorflow:Restoring parameters from C:\\Users\\ognek\\AppData\\Local\\Temp\\tmp0gd8n30p\\model.ckpt-1000\n",
      "INFO:tensorflow:Finished evaluation at 2017-08-20-05:54:42\n",
      "INFO:tensorflow:Saving dict for global step 1000: average_loss = 2.37348e-08, global_step = 1000, loss = 9.4939e-08\n",
      "INFO:tensorflow:Starting evaluation at 2017-08-20-05:54:43\n",
      "INFO:tensorflow:Restoring parameters from C:\\Users\\ognek\\AppData\\Local\\Temp\\tmp0gd8n30p\\model.ckpt-1000\n",
      "INFO:tensorflow:Finished evaluation at 2017-08-20-05:54:44\n",
      "INFO:tensorflow:Saving dict for global step 1000: average_loss = 0.00253813, global_step = 1000, loss = 0.0101525\n",
      "train metrics: {'loss': 9.4939004e-08, 'global_step': 1000, 'average_loss': 2.3734751e-08}\n",
      "eval metrics: {'loss': 0.010152512, 'global_step': 1000, 'average_loss': 0.0025381281}\n"
     ]
    }
   ],
   "source": [
    "# TensorFlow provides many helper methods to read and set up data sets.\n",
    "# Here we use two data sets: one for training and one for evaluation\n",
    "# We have to tell the function how many batches\n",
    "# of data (num_epochs) we want and how big each batch should be.\n",
    "x_train = np.array([1., 2., 3., 4.])\n",
    "y_train = np.array([0., -1., -2., -3.])\n",
    "x_eval = np.array([2., 5., 8., 1.])\n",
    "y_eval = np.array([-1.01, -4.1, -7, 0.])\n",
    "input_fn = tf.estimator.inputs.numpy_input_fn(\n",
    "    {\"x\": x_train}, y_train, batch_size=4, num_epochs=None, shuffle=True)\n",
    "train_input_fn = tf.estimator.inputs.numpy_input_fn(\n",
    "    {\"x\": x_train}, y_train, batch_size=4, num_epochs=1000, shuffle=False)\n",
    "eval_input_fn = tf.estimator.inputs.numpy_input_fn(\n",
    "    {\"x\": x_eval}, y_eval, batch_size=4, num_epochs=1000, shuffle=False)\n",
    "\n",
    "# We can invoke 1000 training steps by invoking the  method and passing the\n",
    "# training data set.\n",
    "estimator.train(input_fn=input_fn, steps=1000)\n",
    "\n",
    "# Here we evaluate how well our model did.\n",
    "train_metrics = estimator.evaluate(input_fn=train_input_fn)\n",
    "eval_metrics = estimator.evaluate(input_fn=eval_input_fn)\n",
    "print(\"train metrics: %r\"% train_metrics)\n",
    "print(\"eval metrics: %r\"% eval_metrics)"
   ]
  },
  {
   "cell_type": "code",
   "execution_count": null,
   "metadata": {
    "collapsed": true
   },
   "outputs": [],
   "source": []
  }
 ],
 "metadata": {
  "kernelspec": {
   "display_name": "Python 3",
   "language": "python",
   "name": "python3"
  },
  "language_info": {
   "codemirror_mode": {
    "name": "ipython",
    "version": 3
   },
   "file_extension": ".py",
   "mimetype": "text/x-python",
   "name": "python",
   "nbconvert_exporter": "python",
   "pygments_lexer": "ipython3",
   "version": "3.5.3"
  }
 },
 "nbformat": 4,
 "nbformat_minor": 2
}
