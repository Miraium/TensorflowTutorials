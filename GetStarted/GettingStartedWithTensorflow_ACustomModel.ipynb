{
 "cells": [
  {
   "cell_type": "code",
   "execution_count": 1,
   "metadata": {
    "collapsed": true
   },
   "outputs": [],
   "source": [
    "import numpy as np\n",
    "import tensorflow as tf"
   ]
  },
  {
   "cell_type": "code",
   "execution_count": 5,
   "metadata": {
    "collapsed": true
   },
   "outputs": [],
   "source": [
    "def model_fn(features, labels, mode):\n",
    "    # Build a linear model and predict values\n",
    "    W = tf.get_variable('W', [1], dtype=tf.float64)\n",
    "    b = tf.get_variable('b', [1], dtype=tf.float64)\n",
    "    y = W * features['x'] + b\n",
    "    # Loss sub-graph\n",
    "    loss = tf.reduce_sum(tf.square(y - labels))\n",
    "    # Training sub-graph\n",
    "    global_step = tf.train.get_global_step()\n",
    "    optimizer = tf.train.GradientDescentOptimizer(0.01)\n",
    "    train = tf.group(optimizer.minimize(loss), tf.assign_add(global_step, 1))\n",
    "    \n",
    "    # EstimatorSpec connects subgraphs we built to the appropriate functionality\n",
    "    return tf.estimator.EstimatorSpec(mode=mode, predictions=y,loss=loss, train_op=train)"
   ]
  },
  {
   "cell_type": "code",
   "execution_count": 6,
   "metadata": {},
   "outputs": [
    {
     "name": "stdout",
     "output_type": "stream",
     "text": [
      "INFO:tensorflow:Using default config.\n",
      "WARNING:tensorflow:Using temporary folder as model directory: C:\\Users\\ognek\\AppData\\Local\\Temp\\tmpuvecmuo6\n",
      "INFO:tensorflow:Using config: {'_keep_checkpoint_every_n_hours': 10000, '_save_checkpoints_secs': 600, '_save_checkpoints_steps': None, '_tf_random_seed': 1, '_session_config': None, '_model_dir': 'C:\\\\Users\\\\ognek\\\\AppData\\\\Local\\\\Temp\\\\tmpuvecmuo6', '_save_summary_steps': 100, '_keep_checkpoint_max': 5}\n"
     ]
    }
   ],
   "source": [
    "estimator = tf.estimator.Estimator(model_fn=model_fn)\n",
    "# define our data sets\n",
    "x_train = np.array([1., 2., 3., 4.])\n",
    "y_train = np.array([0., -1., -2., -3.])\n",
    "x_eval = np.array([2., 5., 8., 1.])\n",
    "y_eval = np.array([-1.01, -4.1, -7, 0.])\n",
    "input_fn = tf.estimator.inputs.numpy_input_fn(\n",
    "{\"x\": x_train}, y_train, batch_size=4, num_epochs=None, shuffle=True)\n",
    "train_input_fn = tf.estimator.inputs.numpy_input_fn(\n",
    "{\"x\": x_train}, y_train, batch_size=4, num_epochs=1000, shuffle=False)\n",
    "eval_input_fn = tf.estimator.inputs.numpy_input_fn(\n",
    "{\"x\": x_eval}, y_eval, batch_size=4, num_epochs=1000, shuffle=False)"
   ]
  },
  {
   "cell_type": "code",
   "execution_count": 7,
   "metadata": {},
   "outputs": [
    {
     "name": "stdout",
     "output_type": "stream",
     "text": [
      "INFO:tensorflow:Create CheckpointSaverHook.\n",
      "INFO:tensorflow:Saving checkpoints for 1 into C:\\Users\\ognek\\AppData\\Local\\Temp\\tmpuvecmuo6\\model.ckpt.\n",
      "INFO:tensorflow:loss = 9.85315286822, step = 1\n",
      "INFO:tensorflow:global_step/sec: 1489.16\n",
      "INFO:tensorflow:loss = 0.021859634029, step = 101 (0.068 sec)\n",
      "INFO:tensorflow:global_step/sec: 1488.58\n",
      "INFO:tensorflow:loss = 0.00168123419823, step = 201 (0.067 sec)\n",
      "INFO:tensorflow:global_step/sec: 1617.36\n",
      "INFO:tensorflow:loss = 0.000345499754646, step = 301 (0.062 sec)\n",
      "INFO:tensorflow:global_step/sec: 1676.19\n",
      "INFO:tensorflow:loss = 3.29874309656e-05, step = 401 (0.060 sec)\n",
      "INFO:tensorflow:global_step/sec: 1734.52\n",
      "INFO:tensorflow:loss = 6.22512583924e-07, step = 501 (0.058 sec)\n",
      "INFO:tensorflow:global_step/sec: 1719.55\n",
      "INFO:tensorflow:loss = 2.43006305297e-07, step = 601 (0.059 sec)\n",
      "INFO:tensorflow:global_step/sec: 1690.4\n",
      "INFO:tensorflow:loss = 2.09509319741e-08, step = 701 (0.059 sec)\n",
      "INFO:tensorflow:global_step/sec: 1780.97\n",
      "INFO:tensorflow:loss = 9.58514177529e-10, step = 801 (0.056 sec)\n",
      "INFO:tensorflow:global_step/sec: 1648.49\n",
      "INFO:tensorflow:loss = 1.08401445816e-10, step = 901 (0.061 sec)\n",
      "INFO:tensorflow:Saving checkpoints for 1000 into C:\\Users\\ognek\\AppData\\Local\\Temp\\tmpuvecmuo6\\model.ckpt.\n",
      "INFO:tensorflow:Loss for final step: 1.43391982255e-11.\n"
     ]
    },
    {
     "data": {
      "text/plain": [
       "<tensorflow.python.estimator.estimator.Estimator at 0x1c5c1b49e80>"
      ]
     },
     "execution_count": 7,
     "metadata": {},
     "output_type": "execute_result"
    }
   ],
   "source": [
    "# train\n",
    "estimator.train(input_fn=input_fn, steps=1000)"
   ]
  },
  {
   "cell_type": "code",
   "execution_count": 8,
   "metadata": {},
   "outputs": [
    {
     "name": "stdout",
     "output_type": "stream",
     "text": [
      "INFO:tensorflow:Starting evaluation at 2017-08-20-04:34:33\n",
      "INFO:tensorflow:Restoring parameters from C:\\Users\\ognek\\AppData\\Local\\Temp\\tmpuvecmuo6\\model.ckpt-1000\n",
      "INFO:tensorflow:Finished evaluation at 2017-08-20-04:34:34\n",
      "INFO:tensorflow:Saving dict for global step 1000: global_step = 1000, loss = 1.02042e-11\n",
      "INFO:tensorflow:Starting evaluation at 2017-08-20-04:34:34\n",
      "INFO:tensorflow:Restoring parameters from C:\\Users\\ognek\\AppData\\Local\\Temp\\tmpuvecmuo6\\model.ckpt-1000\n",
      "INFO:tensorflow:Finished evaluation at 2017-08-20-04:34:35\n",
      "INFO:tensorflow:Saving dict for global step 1000: global_step = 1000, loss = 0.0101007\n",
      "train metrics: {'loss': 1.0204217e-11, 'global_step': 1000}\n",
      "eval metrics: {'loss': 0.010100666, 'global_step': 1000}\n"
     ]
    }
   ],
   "source": [
    "# Here we evalueate how well our model did\n",
    "train_metrics = estimator.evaluate(input_fn=train_input_fn)\n",
    "eval_metrics = estimator.evaluate(input_fn=eval_input_fn)\n",
    "# 精度を上げて計算しているので、より誤差の少ない評価結果が得られるはず???\n",
    "# 参考値\n",
    "# train metrics: {'loss': 1.2712867e-09, 'global_step': 1000}\n",
    "# eval metrics: {'loss': 0.0025279333, 'global_step': 1000}\n",
    "print(\"train metrics: %r\"% train_metrics)\n",
    "print(\"eval metrics: %r\"% eval_metrics)"
   ]
  },
  {
   "cell_type": "code",
   "execution_count": null,
   "metadata": {
    "collapsed": true
   },
   "outputs": [],
   "source": []
  }
 ],
 "metadata": {
  "kernelspec": {
   "display_name": "Python 3",
   "language": "python",
   "name": "python3"
  },
  "language_info": {
   "codemirror_mode": {
    "name": "ipython",
    "version": 3
   },
   "file_extension": ".py",
   "mimetype": "text/x-python",
   "name": "python",
   "nbconvert_exporter": "python",
   "pygments_lexer": "ipython3",
   "version": "3.5.3"
  }
 },
 "nbformat": 4,
 "nbformat_minor": 2
}
